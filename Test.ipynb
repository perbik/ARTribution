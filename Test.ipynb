{
  "nbformat": 4,
  "nbformat_minor": 0,
  "metadata": {
    "colab": {
      "provenance": [],
      "collapsed_sections": [
        "9t25d1jWSS_G"
      ],
      "authorship_tag": "ABX9TyNF/M7yTNXMvJo98FpJxFVh",
      "include_colab_link": true
    },
    "kernelspec": {
      "name": "python3",
      "display_name": "Python 3"
    },
    "language_info": {
      "name": "python"
    }
  },
  "cells": [
    {
      "cell_type": "markdown",
      "metadata": {
        "id": "view-in-github",
        "colab_type": "text"
      },
      "source": [
        "<a href=\"https://colab.research.google.com/github/perbik/ARTribution/blob/main/Test.ipynb\" target=\"_parent\"><img src=\"https://colab.research.google.com/assets/colab-badge.svg\" alt=\"Open In Colab\"/></a>"
      ]
    },
    {
      "cell_type": "markdown",
      "source": [
        "# **ARTtribution: Human vs AI-Generated Art Detection and Model Classification using a Multi-Level Hybrid CNN-ViT Architecture**\n"
      ],
      "metadata": {
        "id": "9t25d1jWSS_G"
      }
    },
    {
      "cell_type": "code",
      "execution_count": null,
      "metadata": {
        "id": "GUcWhvvNR5D3"
      },
      "outputs": [],
      "source": []
    }
  ]
}